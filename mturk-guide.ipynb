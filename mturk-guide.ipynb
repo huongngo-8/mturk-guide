{
 "cells": [
  {
   "cell_type": "markdown",
   "metadata": {},
   "source": [
    "# Quickstart Guide\n",
    "### Use this with README file"
   ]
  },
  {
   "cell_type": "code",
   "execution_count": 1,
   "metadata": {},
   "outputs": [
    {
     "name": "stdout",
     "output_type": "stream",
     "text": [
      "I have $10000.00 in my Sandbox account\n"
     ]
    }
   ],
   "source": [
    "import boto3\n",
    "import xmltodict\n",
    "import ast\n",
    "\n",
    "# these are base links to view/access HITs that have been published\n",
    "MTURK_SANDBOX = \"https://mturk-requester-sandbox.us-east-1.amazonaws.com\"\n",
    "MTURK_PROD = \"https://mturk-requester.us-east-1.amazonaws.com\"\n",
    "MTURK_PROD_VIZ = \"https://worker.mturk.com/mturk/preview?groupId=\"\n",
    "MTURK_SB_VIZ = \"https://workersandbox.mturk.com/mturk/preview?groupId=\"\n",
    "\n",
    "# a toggle to specify whether you're in sandbox mode or not\n",
    "sandbox = True\n",
    "\n",
    "# for security purposes, these keys shouldn't be public\n",
    "ACCESS_KEY_ID = \"\"\n",
    "SECRET_ACCESS_KEY = \"\"\n",
    "\n",
    "mturk = boto3.client(\n",
    "    \"mturk\",\n",
    "    aws_access_key_id=ACCESS_KEY_ID,\n",
    "    aws_secret_access_key=SECRET_ACCESS_KEY,\n",
    "    region_name=\"us-east-1\",\n",
    "    endpoint_url=MTURK_SANDBOX\n",
    "    if sandbox\n",
    "    else MTURK_PROD,  # if you're in sandbox mode, the client will use the sandbox endpoint\n",
    ")\n",
    "\n",
    "# to sanity check that you're in sandbox mode, your account balance will always be $10000\n",
    "print(\n",
    "    \"I have $\"\n",
    "    + mturk.get_account_balance()[\"AvailableBalance\"]\n",
    "    + \" in my Sandbox account\"\n",
    ")\n"
   ]
  },
  {
   "cell_type": "code",
   "execution_count": null,
   "metadata": {},
   "outputs": [],
   "source": [
    "# this will read in your question interface script\n",
    "question = open(file=\"questions.xml\", mode=\"r\").read()\n",
    "\n",
    "# this defines a list of qualification requirements\n",
    "qr = [\n",
    "    {\n",
    "        \"QualificationTypeId\": \"000000000000000000L0\",  # Worker Percentage Approval Rate\n",
    "        \"Comparator\": \"GreaterThanOrEqualTo\",\n",
    "        \"IntegerValues\": [95],  # 95% approval rate\n",
    "    },\n",
    "    {\n",
    "        \"QualificationTypeId\": \"00000000000000000040\",  # Number of HITs Approved\n",
    "        \"Comparator\": \"GreaterThanOrEqualTo\",\n",
    "        \"IntegerValues\": [1000],  # At least 1000 HITs completed\n",
    "    },\n",
    "    {\n",
    "        \"QualificationTypeId\": \"00000000000000000071\",  # Worker Locale\n",
    "        \"Comparator\": \"EqualTo\",\n",
    "        \"LocaleValues\": [{\"Country\": \"US\"}],  # Located in the United States\n",
    "    },\n",
    "]"
   ]
  },
  {
   "cell_type": "code",
   "execution_count": 2,
   "metadata": {},
   "outputs": [
    {
     "name": "stdout",
     "output_type": "stream",
     "text": [
      "A new HIT has been created. You can preview it here:\n",
      "https://workersandbox.mturk.com/mturk/preview?groupId=33UIGJTG47TXFOULN3JJ0Y4BWIFZ1D\n",
      "HITID = 3OKP4QVBQKKSDVE4BPDDFAVN5JLAGM (Use to Get Results)\n"
     ]
    }
   ],
   "source": [
    "# getting the data to show on the question interface\n",
    "with open(\"data/imgs.csv\", \"r\") as f:\n",
    "    data = [line.strip().split(\",\") for line in f]\n",
    "\n",
    "# looping through each series of data\n",
    "# this example uses 10 images for a question\n",
    "for series in data:\n",
    "    # replacing the placeholder URL endpoints with the specific data URL endpoints\n",
    "    for i, img in enumerate(series):\n",
    "        question = question.replace(\"img\" + str(i + 1) + \".png\", img + \".png\")\n",
    "\n",
    "    # creating a new hit after modifying the question template with data\n",
    "    # you can change the parameters of this function depending on HIT setting\n",
    "    new_hit = mturk.create_hit(\n",
    "        Title=\"Rank a series of images\",\n",
    "        Description=\"Rank a series images from 1 to 10\",\n",
    "        Keywords=\"rank, image, quick, labeling, easy, simple, fast\",\n",
    "        Reward=\"0.45\",\n",
    "        MaxAssignments=1,\n",
    "        LifetimeInSeconds=1000,\n",
    "        AssignmentDurationInSeconds=200,\n",
    "        AutoApprovalDelayInSeconds=2345,\n",
    "        Question=question,\n",
    "        QualificationRequirements=[]\n",
    "        if sandbox\n",
    "        else qr,  # for sandbox, best not to have requirements so you can access it yourself (if you don't meet the requirements)\n",
    "    )\n",
    "\n",
    "    # logging hits published to later access it\n",
    "    with open(\"logs/published_hits.txt\", \"a\") as f:\n",
    "        f.write(new_hit[\"HIT\"][\"HITId\"] + \"\\n\")\n",
    "\n",
    "\n",
    "# verbose setting in sandbox that will return a link to see how workers interact with your task\n",
    "if sandbox:\n",
    "    print(\"A new HIT has been created. You can preview it here:\")\n",
    "    print((MTURK_SB_VIZ if sandbox else MTURK_PROD_VIZ) + new_hit[\"HIT\"][\"HITGroupId\"])\n",
    "    print(\"HITID = \" + new_hit[\"HIT\"][\"HITId\"] + \" (Use to Get Results)\")"
   ]
  },
  {
   "cell_type": "code",
   "execution_count": 3,
   "metadata": {},
   "outputs": [],
   "source": [
    "# accessing all the HITs published\n",
    "with open(\"logs/published_hits.txt\", \"r\") as f:\n",
    "    hit_ids = [line.strip() for line in f]\n",
    "\n",
    "# for this example, we will use the first HIT\n",
    "hit_id = hit_ids[0]\n",
    "# if you want to check info about the specific HIT\n",
    "hit_info = mturk.get_hit(HITId=hit_id)\n",
    "# looking at results from assignments that have been submitted from a specific HIT\n",
    "worker_results = mturk.list_assignments_for_hit(\n",
    "    HITId=hit_id, AssignmentStatuses=[\"Submitted\"]\n",
    ")[\"Assignments\"]"
   ]
  },
  {
   "cell_type": "code",
   "execution_count": 15,
   "metadata": {},
   "outputs": [
    {
     "data": {
      "text/plain": [
       "['https://mturk-guide.s3.us-west-2.amazonaws.com/avocado_chair.png',\n",
       " 'https://mturk-guide.s3.us-west-2.amazonaws.com/burrito_human.png',\n",
       " 'https://mturk-guide.s3.us-west-2.amazonaws.com/card_mansion.png',\n",
       " 'https://mturk-guide.s3.us-west-2.amazonaws.com/carnivore_feast.png',\n",
       " 'https://mturk-guide.s3.us-west-2.amazonaws.com/cat_paris.png',\n",
       " 'https://mturk-guide.s3.us-west-2.amazonaws.com/eggs_soysauce.png',\n",
       " 'https://mturk-guide.s3.us-west-2.amazonaws.com/grape_cake.png',\n",
       " 'https://mturk-guide.s3.us-west-2.amazonaws.com/math_dancing.png',\n",
       " 'https://mturk-guide.s3.us-west-2.amazonaws.com/strawberry_cake.png',\n",
       " 'https://mturk-guide.s3.us-west-2.amazonaws.com/yogurt.png']"
      ]
     },
     "execution_count": 15,
     "metadata": {},
     "output_type": "execute_result"
    }
   ],
   "source": [
    "# iterating through results to get image rankings\n",
    "for result in worker_results:\n",
    "    d = xmltodict.parse(result[\"Answer\"])\n",
    "    image_rankings = ast.literal_eval(\n",
    "        ast.literal_eval(d[\"QuestionFormAnswers\"][\"Answer\"][\"FreeText\"])[0][\n",
    "            \"clickedImages\"\n",
    "        ]\n",
    "    )\n",
    "\n",
    "# this should correspond to the rankings given on the image in the README.md file\n",
    "image_rankings"
   ]
  },
  {
   "cell_type": "markdown",
   "metadata": {},
   "source": [
    "### How the code chunk works above to unpack the result"
   ]
  },
  {
   "cell_type": "code",
   "execution_count": 4,
   "metadata": {},
   "outputs": [
    {
     "data": {
      "text/plain": [
       "{'QuestionFormAnswers': {'@xmlns': 'http://mechanicalturk.amazonaws.com/AWSMechanicalTurkDataSchemas/2005-10-01/QuestionFormAnswers.xsd',\n",
       "  'Answer': {'QuestionIdentifier': 'taskAnswers',\n",
       "   'FreeText': '[{\"clickedImages\":\"[\\\\\"https://mturk-guide.s3.us-west-2.amazonaws.com/avocado_chair.png\\\\\",\\\\\"https://mturk-guide.s3.us-west-2.amazonaws.com/burrito_human.png\\\\\",\\\\\"https://mturk-guide.s3.us-west-2.amazonaws.com/card_mansion.png\\\\\",\\\\\"https://mturk-guide.s3.us-west-2.amazonaws.com/carnivore_feast.png\\\\\",\\\\\"https://mturk-guide.s3.us-west-2.amazonaws.com/cat_paris.png\\\\\",\\\\\"https://mturk-guide.s3.us-west-2.amazonaws.com/eggs_soysauce.png\\\\\",\\\\\"https://mturk-guide.s3.us-west-2.amazonaws.com/grape_cake.png\\\\\",\\\\\"https://mturk-guide.s3.us-west-2.amazonaws.com/math_dancing.png\\\\\",\\\\\"https://mturk-guide.s3.us-west-2.amazonaws.com/strawberry_cake.png\\\\\",\\\\\"https://mturk-guide.s3.us-west-2.amazonaws.com/yogurt.png\\\\\"]\"}]'}}}"
      ]
     },
     "execution_count": 4,
     "metadata": {},
     "output_type": "execute_result"
    }
   ],
   "source": [
    "d"
   ]
  },
  {
   "cell_type": "code",
   "execution_count": 7,
   "metadata": {},
   "outputs": [
    {
     "data": {
      "text/plain": [
       "dict_keys(['QuestionFormAnswers'])"
      ]
     },
     "execution_count": 7,
     "metadata": {},
     "output_type": "execute_result"
    }
   ],
   "source": [
    "d.keys()"
   ]
  },
  {
   "cell_type": "code",
   "execution_count": 9,
   "metadata": {},
   "outputs": [
    {
     "data": {
      "text/plain": [
       "dict_keys(['@xmlns', 'Answer'])"
      ]
     },
     "execution_count": 9,
     "metadata": {},
     "output_type": "execute_result"
    }
   ],
   "source": [
    "d[\"QuestionFormAnswers\"].keys()"
   ]
  },
  {
   "cell_type": "code",
   "execution_count": 10,
   "metadata": {},
   "outputs": [
    {
     "data": {
      "text/plain": [
       "{'QuestionIdentifier': 'taskAnswers',\n",
       " 'FreeText': '[{\"clickedImages\":\"[\\\\\"https://mturk-guide.s3.us-west-2.amazonaws.com/avocado_chair.png\\\\\",\\\\\"https://mturk-guide.s3.us-west-2.amazonaws.com/burrito_human.png\\\\\",\\\\\"https://mturk-guide.s3.us-west-2.amazonaws.com/card_mansion.png\\\\\",\\\\\"https://mturk-guide.s3.us-west-2.amazonaws.com/carnivore_feast.png\\\\\",\\\\\"https://mturk-guide.s3.us-west-2.amazonaws.com/cat_paris.png\\\\\",\\\\\"https://mturk-guide.s3.us-west-2.amazonaws.com/eggs_soysauce.png\\\\\",\\\\\"https://mturk-guide.s3.us-west-2.amazonaws.com/grape_cake.png\\\\\",\\\\\"https://mturk-guide.s3.us-west-2.amazonaws.com/math_dancing.png\\\\\",\\\\\"https://mturk-guide.s3.us-west-2.amazonaws.com/strawberry_cake.png\\\\\",\\\\\"https://mturk-guide.s3.us-west-2.amazonaws.com/yogurt.png\\\\\"]\"}]'}"
      ]
     },
     "execution_count": 10,
     "metadata": {},
     "output_type": "execute_result"
    }
   ],
   "source": [
    "d[\"QuestionFormAnswers\"][\"Answer\"]"
   ]
  },
  {
   "cell_type": "code",
   "execution_count": 11,
   "metadata": {},
   "outputs": [
    {
     "data": {
      "text/plain": [
       "'[{\"clickedImages\":\"[\\\\\"https://mturk-guide.s3.us-west-2.amazonaws.com/avocado_chair.png\\\\\",\\\\\"https://mturk-guide.s3.us-west-2.amazonaws.com/burrito_human.png\\\\\",\\\\\"https://mturk-guide.s3.us-west-2.amazonaws.com/card_mansion.png\\\\\",\\\\\"https://mturk-guide.s3.us-west-2.amazonaws.com/carnivore_feast.png\\\\\",\\\\\"https://mturk-guide.s3.us-west-2.amazonaws.com/cat_paris.png\\\\\",\\\\\"https://mturk-guide.s3.us-west-2.amazonaws.com/eggs_soysauce.png\\\\\",\\\\\"https://mturk-guide.s3.us-west-2.amazonaws.com/grape_cake.png\\\\\",\\\\\"https://mturk-guide.s3.us-west-2.amazonaws.com/math_dancing.png\\\\\",\\\\\"https://mturk-guide.s3.us-west-2.amazonaws.com/strawberry_cake.png\\\\\",\\\\\"https://mturk-guide.s3.us-west-2.amazonaws.com/yogurt.png\\\\\"]\"}]'"
      ]
     },
     "execution_count": 11,
     "metadata": {},
     "output_type": "execute_result"
    }
   ],
   "source": [
    "d[\"QuestionFormAnswers\"][\"Answer\"][\"FreeText\"]"
   ]
  },
  {
   "cell_type": "code",
   "execution_count": 13,
   "metadata": {},
   "outputs": [
    {
     "data": {
      "text/plain": [
       "[{'clickedImages': '[\"https://mturk-guide.s3.us-west-2.amazonaws.com/avocado_chair.png\",\"https://mturk-guide.s3.us-west-2.amazonaws.com/burrito_human.png\",\"https://mturk-guide.s3.us-west-2.amazonaws.com/card_mansion.png\",\"https://mturk-guide.s3.us-west-2.amazonaws.com/carnivore_feast.png\",\"https://mturk-guide.s3.us-west-2.amazonaws.com/cat_paris.png\",\"https://mturk-guide.s3.us-west-2.amazonaws.com/eggs_soysauce.png\",\"https://mturk-guide.s3.us-west-2.amazonaws.com/grape_cake.png\",\"https://mturk-guide.s3.us-west-2.amazonaws.com/math_dancing.png\",\"https://mturk-guide.s3.us-west-2.amazonaws.com/strawberry_cake.png\",\"https://mturk-guide.s3.us-west-2.amazonaws.com/yogurt.png\"]'}]"
      ]
     },
     "execution_count": 13,
     "metadata": {},
     "output_type": "execute_result"
    }
   ],
   "source": [
    "import ast\n",
    "ast.literal_eval(d[\"QuestionFormAnswers\"][\"Answer\"][\"FreeText\"])"
   ]
  }
 ],
 "metadata": {
  "kernelspec": {
   "display_name": "Python 3",
   "language": "python",
   "name": "python3"
  },
  "language_info": {
   "codemirror_mode": {
    "name": "ipython",
    "version": 3
   },
   "file_extension": ".py",
   "mimetype": "text/x-python",
   "name": "python",
   "nbconvert_exporter": "python",
   "pygments_lexer": "ipython3",
   "version": "3.10.13"
  }
 },
 "nbformat": 4,
 "nbformat_minor": 2
}
